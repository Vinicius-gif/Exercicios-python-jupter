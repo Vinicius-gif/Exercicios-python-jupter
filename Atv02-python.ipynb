{
 "cells": [
  {
   "cell_type": "code",
   "execution_count": 9,
   "id": "35c34f5f",
   "metadata": {},
   "outputs": [
    {
     "name": "stdout",
     "output_type": "stream",
     "text": [
      "Digite a nota do trabalho de laboratório:8\n",
      "Digite a nota da avaliação semestral:6\n",
      "Digite a nota do exame final:8\n",
      "7.4\n",
      "Nota conceito: B\n"
     ]
    }
   ],
   "source": [
    "nota_1 = float(input(\"Digite a nota do trabalho de laboratório:\"))\n",
    "nota_2 = float(input(\"Digite a nota da avaliação semestral:\"))\n",
    "nota_3 = float(input(\"Digite a nota do exame final:\"))\n",
    "\n",
    "peso_lab = 2\n",
    "peso_semestral = 3\n",
    "peso_final = 5\n",
    "\n",
    "media = ((nota_1*peso_lab)+(nota_2*peso_semestral)+(nota_3*peso_final)) / (peso_lab+peso_semestral+peso_final)\n",
    "\n",
    "print(media)\n",
    "\n",
    "if  8 <= media <= 10: print(\"Nota conceito: A\")\n",
    "if  7 <= media < 8: print(\"Nota conceito: B\")\n",
    "if  6 <= media < 7: print(\"Nota conceito: C\")\n",
    "if  5 <= media < 6: print(\"Nota conceito: D\")\n",
    "if  0 <= media < 5: print(\"Nota conceito: E\")"
   ]
  },
  {
   "cell_type": "code",
   "execution_count": 13,
   "id": "06f7e1c4",
   "metadata": {},
   "outputs": [
    {
     "name": "stdout",
     "output_type": "stream",
     "text": [
      "Digite o valor da nota:3\n",
      "Digite o valor da nota:2\n",
      "Digite o valor da nota:3\n",
      "2.6666666666666665\n",
      "Reprovado!\n"
     ]
    }
   ],
   "source": [
    "nota_1 = float(input(\"Digite o valor da nota:\"))\n",
    "nota_2 = float(input(\"Digite o valor da nota:\"))\n",
    "nota_3 = float(input(\"Digite o valor da nota:\"))\n",
    "\n",
    "media = (nota_1+nota_2+nota_3) / 3\n",
    "\n",
    "print(media)\n",
    "\n",
    "if  7 <= media <= 10: print(\"Aprovado!\")\n",
    "if  3 <= media < 7: print(\"Exame Especial!\")\n",
    "if  0 <= media < 3: print(\"Reprovado!\")"
   ]
  },
  {
   "cell_type": "code",
   "execution_count": 15,
   "id": "6e3d826f",
   "metadata": {},
   "outputs": [
    {
     "name": "stdout",
     "output_type": "stream",
     "text": [
      "Digite um valor:5\n",
      "Digite um valor:7\n",
      "O número maior é: 7.0\n"
     ]
    }
   ],
   "source": [
    "num_1 = float(input(\"Digite um valor:\"))\n",
    "num_2 = float(input(\"Digite um valor:\"))\n",
    "\n",
    "if num_1 > num_2: print(\"O número maior é:\", num_1)\n",
    "else: print(\"O número maior é:\", num_2)"
   ]
  },
  {
   "cell_type": "code",
   "execution_count": 20,
   "id": "a3118c41",
   "metadata": {},
   "outputs": [
    {
     "name": "stdout",
     "output_type": "stream",
     "text": [
      "Digite um valor:6\n",
      "O número é par\n"
     ]
    }
   ],
   "source": [
    "num_1 = int(input(\"Digite um valor:\"))\n",
    "\n",
    "if (num_1 % 2) == 0:  print(\"O número é par\")\n",
    "else:  print(\"O número é impar\")"
   ]
  },
  {
   "cell_type": "code",
   "execution_count": 23,
   "id": "5389342e",
   "metadata": {},
   "outputs": [
    {
     "name": "stdout",
     "output_type": "stream",
     "text": [
      "Escolha uma das opções a seguir: \n",
      " 1.Somar dois números. \n",
      " 2.Raiz quadrada de um número. \n",
      "2\n",
      "Digite um valor:9\n",
      "Raiz quadrada do valor digitado: 3.0\n"
     ]
    }
   ],
   "source": [
    "import math\n",
    "\n",
    "opcoes = int(input(\"Escolha uma das opções a seguir: \\n 1.Somar dois números. \\n 2.Raiz quadrada de um número. \\n\"))\n",
    "\n",
    "if opcoes == 1:\n",
    "    valor_1 = float(input(\"Digite um valor:\"))\n",
    "    valor_2 = float(input(\"Digite um valor:\"))\n",
    "    resultado = valor_1 + valor_2\n",
    "    print(\"Soma dos valores:\", resultado)\n",
    "    \n",
    "if opcoes == 2:\n",
    "     valor_1 = float(input(\"Digite um valor:\"))\n",
    "     raiz = math.sqrt(valor_1)\n",
    "     print(\"Raiz quadrada do valor digitado:\", raiz)"
   ]
  },
  {
   "cell_type": "code",
   "execution_count": 30,
   "id": "9894a67b",
   "metadata": {},
   "outputs": [
    {
     "name": "stdout",
     "output_type": "stream",
     "text": [
      "Digite o código:5\n",
      "Digite o valor do salário atual:1000\n",
      "Cargo: Diretor \n",
      " Aumento: 0.0 \n",
      " Novo salário: 1000.0\n"
     ]
    }
   ],
   "source": [
    "codigo = int(input(\"Digite o código:\"))\n",
    "salario_atual = float(input(\"Digite o valor do salário atual:\"))\n",
    "\n",
    "if codigo == 1:\n",
    "    aumento = salario_atual * 0.5\n",
    "    novo_salario = salario_atual + aumento\n",
    "    print(\"Cargo: Escrituário \\n Aumento:\", aumento, \"\\n Novo salário:\", novo_salario)\n",
    "\n",
    "if codigo == 2:\n",
    "    aumento = salario_atual * 0.35\n",
    "    novo_salario = salario_atual + aumento\n",
    "    print(\"Cargo: Secretário \\n Aumento:\", aumento, \"\\n Novo salário:\", novo_salario)\n",
    "\n",
    "if codigo == 3:\n",
    "    aumento = salario_atual * 0.2\n",
    "    novo_salario = salario_atual + aumento\n",
    "    print(\"Cargo: Caixa \\n Aumento:\", aumento, \"\\n Novo salário:\", novo_salario)\n",
    "\n",
    "if codigo == 4:\n",
    "    aumento = salario_atual * 0.1\n",
    "    novo_salario = salario_atual + aumento\n",
    "    print(\"Cargo: Gerente \\n Aumento:\", aumento, \"\\n Novo salário:\", novo_salario)\n",
    "    \n",
    "if codigo == 5:\n",
    "    aumento = salario_atual * 0\n",
    "    novo_salario = salario_atual + aumento\n",
    "    print(\"Cargo: Diretor \\n Aumento:\", aumento, \"\\n Novo salário:\", novo_salario)"
   ]
  },
  {
   "cell_type": "code",
   "execution_count": 1,
   "id": "36b2c231",
   "metadata": {},
   "outputs": [
    {
     "name": "stdout",
     "output_type": "stream",
     "text": [
      "Digite o salário inicial:601\n",
      "Novo salário: R$ 731.05\n"
     ]
    }
   ],
   "source": [
    "salario_i = float(input(\"Digite o salário inicial:\"))\n",
    "\n",
    "if salario_i >= 500: bonificacao = salario_i * 0.05\n",
    "if 500 < salario_i >= 1200 : bonificacao = salario_i * 0.12\n",
    "if salario_i > 1200: bonificacao = 0\n",
    "    \n",
    "if salario_i <= 600: auxilio = 150\n",
    "if salario_i > 600: auxilio = 100\n",
    "    \n",
    "salario_t = salario_i + bonificacao + auxilio\n",
    "    \n",
    "print(\"Novo salário: R$\", salario_t)"
   ]
  },
  {
   "cell_type": "code",
   "execution_count": 3,
   "id": "ddceedbb",
   "metadata": {},
   "outputs": [
    {
     "name": "stdout",
     "output_type": "stream",
     "text": [
      "Digite o valor medio das vendas do produto:400\n",
      "Digite o preço atual do produto:20\n",
      "Novo preço: R$ 22.0\n"
     ]
    }
   ],
   "source": [
    "venda_med_mens = float(input(\"Digite o valor medio das vendas do produto:\"))\n",
    "preco_atual = float(input(\"Digite o preço atual do produto:\"))\n",
    "\n",
    "if venda_med_mens < 500 or preco_atual < 30: \n",
    "    reajuste = preco_atual * 0.1\n",
    "    novo_preco = preco_atual + reajuste\n",
    "    \n",
    "if 500 <= venda_med_mens < 1200  or 30 <= preco_atual < 80: \n",
    "    reajuste = preco_atual * 0.15\n",
    "    novo_preco = preco_atual + reajuste\n",
    "    \n",
    "if venda_med_mens >= 1200  or preco_atual >= 80: \n",
    "    reajuste = preco_atual * 0.2\n",
    "    novo_preco = preco_atual - reajuste\n",
    "    \n",
    "print(\"Novo preço: R$\", novo_preco)"
   ]
  },
  {
   "cell_type": "code",
   "execution_count": 12,
   "id": "dccd6222",
   "metadata": {},
   "outputs": [
    {
     "name": "stdout",
     "output_type": "stream",
     "text": [
      "Com base na fórmula, ax2 + bx + c\n",
      "Digite um valor para A: 1\n",
      "Digite um valor para B:8\n",
      "Digite um valor para C:4\n",
      "As duas raízes possíveis são: x1= -0.5358983848622456  e x2= -7.464101615137754 \n"
     ]
    }
   ],
   "source": [
    "import math\n",
    "\n",
    "print(\"Com base na fórmula, ax2 + bx + c\")\n",
    "\n",
    "A=float(input(\"Digite um valor para A: \"))\n",
    "\n",
    "if A == 0: \n",
    "    print(\"Esta operação não condiz com uma equação de segundo grau.\")\n",
    "\n",
    "else:\n",
    "    B=float(input(\"Digite um valor para B:\"))\n",
    "    C=float(input(\"Digite um valor para C:\"))\n",
    "    delta=(B**2)-(4*A*C)\n",
    "    \n",
    "if delta<0:\n",
    "    print(\"A equação não possui raízes reais. \\n Fim de execução.\")\n",
    "\n",
    "if delta == 0:\n",
    "    x = -B / (2*A)\n",
    "    print(\"Existe raiz real: x =\", x)\n",
    "\n",
    "else:\n",
    "    x1=(-B + math.sqrt(delta) ) / (2*A)\n",
    "    x2=(-B - math.sqrt(delta) ) / (2*A)\n",
    "    print(\"As duas raízes possíveis são: x1=\",x1,\" e x2=\",x2,\"\") "
   ]
  },
  {
   "cell_type": "code",
   "execution_count": 19,
   "id": "cf211fa1",
   "metadata": {},
   "outputs": [
    {
     "name": "stdout",
     "output_type": "stream",
     "text": [
      "Codigo para identicar o tipo de um triângulo \n",
      "\n",
      "Digite o valor do lado A: 6\n",
      "Digite o valor do lado B: 2\n",
      "Digite o valor do lado C: 2\n",
      "Nao é um triangulo\n"
     ]
    }
   ],
   "source": [
    "print(\"Codigo para identicar o tipo de um triângulo \\n\")\n",
    "a = float(input(\"Digite o valor do lado A: \"))\n",
    "b = float(input(\"Digite o valor do lado B: \"))\n",
    "c = float(input(\"Digite o valor do lado C: \"))\n",
    "\n",
    "if (a + b < c) or (a + c < b) or (b + c < a): print('Nao é um triangulo')\n",
    "    \n",
    "elif (a == b) and (a == c) : print('Equilatero')\n",
    "    \n",
    "elif (a==b) or (a==c) or (b==c): print('Isósceles')\n",
    "    \n",
    "else: print('Escaleno')"
   ]
  },
  {
   "cell_type": "code",
   "execution_count": 31,
   "id": "e0d44119",
   "metadata": {},
   "outputs": [
    {
     "name": "stdout",
     "output_type": "stream",
     "text": [
      "Digite o valor da sua altura: 1.60\n",
      "Digite o valor do seu peso corporal: 96\n",
      "Sua classificação é: H\n"
     ]
    }
   ],
   "source": [
    "altura = float(input(\"Digite o valor da sua altura: \"))\n",
    "peso = float(input(\"Digite o valor do seu peso corporal: \"))\n",
    "\n",
    "if altura < 1.20 and peso < 60: classificacao = \"A\"\n",
    "if altura < 1.20 and (peso >= 60 or peso > 90): classificacao = \"D\"\n",
    "if altura < 1.20 and peso >= 90: classificacao = \"G\"\n",
    "\n",
    "if (altura >= 1.20 and altura < 1.70 ) and peso < 60: classificacao = \"B\"\n",
    "if (altura >= 1.20 and altura < 1.70 ) and (peso >= 60 or peso > 90): classificacao = \"E\"\n",
    "if (altura >= 1.20 and altura < 1.70 ) and peso >= 90: classificacao = \"H\"\n",
    "    \n",
    "if altura > 1.70 and peso < 60: classificacao = \"C\"\n",
    "if altura > 1.70 and (peso >= 60 or peso > 90): classificacao = \"F\"\n",
    "if altura > 1.70 and peso >= 90: classificacao = \"I\"\n",
    "\n",
    "print(\"Sua classificação é:\", classificacao)"
   ]
  },
  {
   "cell_type": "code",
   "execution_count": 35,
   "id": "b2a81e1f",
   "metadata": {},
   "outputs": [
    {
     "name": "stdout",
     "output_type": "stream",
     "text": [
      "Digite o preço do produto: 4\n",
      "Digite o codigo do produto: 2\n",
      "Digite o peso do produto em kg: 5.7\n",
      "Digite o codigo do país: 2\n",
      "Imposto: 0.6 preço por grama: 10\n"
     ]
    }
   ],
   "source": [
    "preco_do_produto = float(input(\"Digite o preço do produto: \"))\n",
    "codigo_do_produto = int(input(\"Digite o codigo do produto: \"))\n",
    "peso_kg = float(input(\"Digite o peso do produto em kg: \"))\n",
    "codigo_do_pais  = int(input(\"Digite o codigo do país: \"))\n",
    "\n",
    "if codigo_do_pais == 1: imposto = preco_do_produto * 0\n",
    "if codigo_do_pais == 2: imposto = preco_do_produto * 0.15\n",
    "if codigo_do_pais == 3: imposto = preco_do_produto * 0.25\n",
    "\n",
    "if (codigo_do_produto >= 1 or codigo_do_produto >= 4): preco_por_grama = 10\n",
    "if (codigo_do_produto >= 5 or codigo_do_produto >= 7): preco_por_grama = 25\n",
    "if (codigo_do_produto >= 8 or codigo_do_produto >= 10): preco_por_grama = 35\n",
    "    \n",
    "print(\"Imposto:\", imposto, \"preço por grama:\", preco_por_grama)"
   ]
  },
  {
   "cell_type": "code",
   "execution_count": 15,
   "id": "2a80e8ab",
   "metadata": {},
   "outputs": [
    {
     "name": "stdout",
     "output_type": "stream",
     "text": [
      "Num| \t Quad| \t Cubo|\n",
      "0  |\t 0 |\t 0\n",
      "1  |\t 1 |\t 1\n",
      "2  |\t 4 |\t 8\n",
      "3  |\t 9 |\t 27\n",
      "4  |\t 16 |\t 64\n",
      "5  |\t 25 |\t 125\n",
      "6  |\t 36 |\t 216\n",
      "7  |\t 49 |\t 343\n",
      "8  |\t 64 |\t 512\n",
      "9  |\t 81 |\t 729\n",
      "10  |\t 100 |\t 1000\n"
     ]
    }
   ],
   "source": [
    "lista1 = range(11)\n",
    "\n",
    "print(\"Num| \\t Quad| \\t Cubo|\")\n",
    "\n",
    "for item in lista1:\n",
    "    \n",
    "    numero = item\n",
    "    quadrado = item** 2\n",
    "    cubo = item** 3\n",
    "    \n",
    "    print(numero,\" |\\t\",quadrado,\"|\\t\",cubo)"
   ]
  },
  {
   "cell_type": "code",
   "execution_count": 54,
   "id": "0f2a4bb4",
   "metadata": {},
   "outputs": [
    {
     "name": "stdout",
     "output_type": "stream",
     "text": [
      "O salario em 2022 é de R$ 1000.00\n"
     ]
    }
   ],
   "source": [
    "ano_inicial = 2005\n",
    "ano_atual = 2022\n",
    "salario = 1000\n",
    "aumento = 1.5 / 100  \n",
    "\n",
    "while ano < ano_atual:\n",
    "    ano_inicial += 1\n",
    "    salario *= 1 + aumento\n",
    "    aumento *= 2\n",
    "\n",
    "print(f\"O salario em {ano} é de R$ {salario:.2f}\")"
   ]
  },
  {
   "cell_type": "code",
   "execution_count": 2,
   "id": "1600f072",
   "metadata": {},
   "outputs": [
    {
     "name": "stdout",
     "output_type": "stream",
     "text": [
      "Digite a quantidade de crianças nascidas: 4\n",
      "Sexo da criança 1: F\n",
      "Tempo de vida 1: 55\n",
      "Sexo da criança 2: F\n",
      "Tempo de vida 2: 12\n",
      "Sexo da criança 3: F\n",
      "Tempo de vida 3: 21\n",
      "Sexo da criança 4: M\n",
      "Tempo de vida 4: 2\n",
      "Porcentagem de meninas: 0.75 \n",
      "\n",
      "Porcentagem de meninos: 0.25 \n",
      "\n",
      "Porcentagem de criança que viveram 24 meses ou menos: 0.75\n"
     ]
    }
   ],
   "source": [
    "quantidade_criancas = int(input(\"Digite a quantidade de crianças nascidas: \"))\n",
    "quantidade = range(quantidade_criancas)\n",
    "\n",
    "quantidade_meninos = 0\n",
    "quantidade_meninas = 0\n",
    "quantidade_menos_24_meses = 0\n",
    "\n",
    "for i in quantidade:\n",
    "    sexo = input(f\"Sexo da criança {i + 1}: \")\n",
    "    tempo_de_vida = int(input(f\"Tempo de vida {i + 1}: \"))\n",
    "    \n",
    "    if (sexo == 'F'):\n",
    "        quantidade_meninas = quantidade_meninas + 1\n",
    "    elif (sexo == 'M'):\n",
    "        quantidade_meninos = quantidade_meninos + 1\n",
    "        \n",
    "    if (tempo_de_vida <= 24):\n",
    "        quantidade_menos_24_meses = quantidade_menos_24_meses + 1\n",
    "        \n",
    "print(f\"Porcentagem de meninas: {quantidade_meninas/quantidade_criancas} \\n\")\n",
    "print(f\"Porcentagem de meninos: {quantidade_meninos/quantidade_criancas} \\n\")\n",
    "print(f\"Porcentagem de criança que viveram 24 meses ou menos: {quantidade_menos_24_meses/quantidade_criancas}\")"
   ]
  },
  {
   "cell_type": "code",
   "execution_count": 15,
   "id": "48d1bb06",
   "metadata": {},
   "outputs": [
    {
     "name": "stdout",
     "output_type": "stream",
     "text": [
      "Digite primeira nota do aluno: 0\n",
      "Digite segunda nota do aluno: 22\n",
      "Media: 11.0\n",
      "Digite primeira nota do aluno: 55\n",
      "Digite segunda nota do aluno: 88\n",
      "Media: 71.5\n",
      "Digite primeira nota do aluno: 33\n",
      "Digite segunda nota do aluno: 11\n",
      "Media: 22.0\n",
      "Digite primeira nota do aluno: 90\n",
      "Digite segunda nota do aluno: 70\n",
      "Media: 80.0\n",
      "Digite primeira nota do aluno: 68\n",
      "Digite segunda nota do aluno: 89\n",
      "Media: 78.5\n",
      "Digite primeira nota do aluno: 23\n",
      "Digite segunda nota do aluno: 90\n",
      "Media: 56.5\n",
      "Aprovados: 3 Exame: 1 Reprovados: 4 \n",
      " Média dos alunos: 53.25\n"
     ]
    }
   ],
   "source": [
    "alunos = 6\n",
    "contador = 1\n",
    "reprovados = 0\n",
    "aprovados = 0\n",
    "exame = 0\n",
    "media_alunos = []\n",
    "\n",
    "while (contador <= alunos):\n",
    "    nota_1 = float(input(\"Digite primeira nota do aluno: \"))\n",
    "    nota_2 = float(input(\"Digite segunda nota do aluno: \"))\n",
    "    \n",
    "    if (nota_1 < 0 and nota_1 > 100) or (nota_2 < 0 and nota_2 > 100):\n",
    "        print(\"Uma das notas é inválida, deve ser entre 0 e 100! \")\n",
    "    \n",
    "    else:\n",
    "        soma = (nota_1 + nota_2)\n",
    "        media_atrc = soma / 2\n",
    "       \n",
    "        if media_atrc >= 0 and media_atrc <= 29: reprovados = reprovados + 1\n",
    "        \n",
    "        elif media_atrc >= 30 and media_atrc <= 69: exame = exame + 1\n",
    "            \n",
    "        elif media_atrc >= 70 and media_atrc <= 100: aprovados = aprovados+ 1\n",
    "            \n",
    "        print(\"Media:\", media_atrc)\n",
    "        \n",
    "        media_alunos.append(media_atrc)\n",
    "\n",
    "        contador = contador + 1\n",
    "\n",
    "soma_das_notas = 0        \n",
    "\n",
    "for nota in media_alunos:\n",
    "    \n",
    "    soma_das_notas = nota + soma_das_notas\n",
    "    \n",
    "media_total = soma_das_notas / 6\n",
    "        \n",
    "print(\"Aprovados:\", aprovados, \"Exame:\", exame, \"Reprovados:\", reprovados, \"\\n Média dos alunos:\",media_total )"
   ]
  },
  {
   "cell_type": "code",
   "execution_count": 20,
   "id": "87b7c2da",
   "metadata": {},
   "outputs": [
    {
     "name": "stdout",
     "output_type": "stream",
     "text": [
      "Informe o valor da base:-1\n",
      "Informe o valor da altura:22\n",
      "Valor da base ou altura inválido!\n"
     ]
    }
   ],
   "source": [
    "base = float(input(\"Informe o valor da base:\"))\n",
    "altura = float(input(\"Informe o valor da altura:\"))\n",
    "\n",
    "if base <= 0 or altura <= 0: print(\"Valor da base ou altura inválido!\")\n",
    "else:\n",
    "    area = base * altura / 2\n",
    "    print(\"Area:\", area)\n"
   ]
  },
  {
   "cell_type": "code",
   "execution_count": 25,
   "id": "9b5f1a9e",
   "metadata": {},
   "outputs": [
    {
     "name": "stdout",
     "output_type": "stream",
     "text": [
      "Digite um número: 9\n",
      "Seu número: 9.0 Quadrado: 81.0 Cubo: 729.0 Raiz: 3.0\n",
      "Digite um valor acima de 0 para continuar: 0\n"
     ]
    }
   ],
   "source": [
    "import math\n",
    "\n",
    "contador = 1\n",
    "\n",
    "while contador >= 1:\n",
    "    \n",
    "    numero = float(input(\"Digite um número: \"))\n",
    "    \n",
    "    quadrado = numero** 2\n",
    "    cubo = numero** 3\n",
    "    raiz = math.sqrt(numero)\n",
    "    \n",
    "    print(\"Seu número:\", numero, \"Quadrado:\", quadrado, \"Cubo:\", cubo, \"Raiz:\", raiz)\n",
    "    \n",
    "    contador = float(input(\"Digite um valor acima de 0 para continuar: \"))"
   ]
  },
  {
   "cell_type": "code",
   "execution_count": 20,
   "id": "33ed7d3f",
   "metadata": {},
   "outputs": [
    {
     "name": "stdout",
     "output_type": "stream",
     "text": [
      "Digite um valor: 3\n",
      "Digite um valor: 3\n",
      "Digite um valor: 2\n",
      "Digite um valor: 2\n",
      "Digite um valor: 0\n",
      "Valores digitados: [3, 3, 2, 2] Soma dos valores: 10 Quantidade: 5 \n",
      "\n",
      "Maior valor: 3 Menor valor: 2 Porcentagem de impares: 40.0 \n",
      "\n",
      "Média dos numeros: 2.0  Pares: [2, 2, 0] Media dos pares: 1.3333333333333333 \n",
      "\n"
     ]
    }
   ],
   "source": [
    "valor = 1\n",
    "numeros = []\n",
    "pares = []\n",
    "impares = []\n",
    "cont = 0\n",
    "contador_de_pares = 0\n",
    "contador_de_impares = 0\n",
    "\n",
    "while valor != 0:\n",
    "    valor = int(input(\"Digite um valor: \"))\n",
    "    numeros.append(valor)\n",
    "    cont = cont + 1\n",
    "    \n",
    "    if (valor%2) == 0:\n",
    "        pares.append(valor)\n",
    "        contador_de_pares = contador_de_pares + 1\n",
    "        \n",
    "    if (valor%2) != 0:\n",
    "        impares.append(valor)\n",
    "        contador_de_impares = contador_de_impares + 1\n",
    "        \n",
    "numeros.pop()       \n",
    "\n",
    "maior = max(numeros)\n",
    "menor = min(numeros)\n",
    "soma = sum(numeros)   \n",
    "\n",
    "media = soma / cont\n",
    "\n",
    "soma_dos_pares = sum(pares)         \n",
    "\n",
    "media_dos_pares = soma_dos_pares / contador_de_pares\n",
    "\n",
    "porcentagem_impares = (contador_de_impares * 100) / cont\n",
    "\n",
    "print(\"Valores digitados:\",numeros, \"Soma dos valores:\", soma, \"Quantidade:\", cont, \"\\n\")\n",
    "print(\"Maior valor:\", maior, \"Menor valor:\", menor, \"Porcentagem de impares:\", porcentagem_impares, \"\\n\")\n",
    "print(\"Média dos numeros:\", media, \" Pares:\", pares, \"Media dos pares:\", media_dos_pares, \"\\n\")\n"
   ]
  },
  {
   "cell_type": "code",
   "execution_count": 2,
   "id": "68b6a434",
   "metadata": {},
   "outputs": [
    {
     "ename": "IndentationError",
     "evalue": "unexpected indent (3647012843.py, line 4)",
     "output_type": "error",
     "traceback": [
      "\u001b[1;36m  File \u001b[1;32m\"C:\\Users\\PICHAU\\AppData\\Local\\Temp\\ipykernel_10564\\3647012843.py\"\u001b[1;36m, line \u001b[1;32m4\u001b[0m\n\u001b[1;33m    while m < n:\u001b[0m\n\u001b[1;37m    ^\u001b[0m\n\u001b[1;31mIndentationError\u001b[0m\u001b[1;31m:\u001b[0m unexpected indent\n"
     ]
    }
   ],
   "source": [
    "valores = []\n",
    "m = 0\n",
    "n = 0\n",
    "    while m < n:\n",
    "        m_valor = int(input(\"Digite um velor m:\"))\n",
    "        n_valor = int(input(\"Digite um velor n:\"))\n",
    "        \n",
    "        valores.append = [{'m': 'm_valor', 'n': 'n_valor'}]\n",
    "        \n",
    "soma = sum(valores[m,n])\n",
    "     \n",
    "print(valores, soma)"
   ]
  }
 ],
 "metadata": {
  "kernelspec": {
   "display_name": "Python 3 (ipykernel)",
   "language": "python",
   "name": "python3"
  },
  "language_info": {
   "codemirror_mode": {
    "name": "ipython",
    "version": 3
   },
   "file_extension": ".py",
   "mimetype": "text/x-python",
   "name": "python",
   "nbconvert_exporter": "python",
   "pygments_lexer": "ipython3",
   "version": "3.9.13"
  }
 },
 "nbformat": 4,
 "nbformat_minor": 5
}

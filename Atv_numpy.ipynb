{
  "cells": [
    {
      "cell_type": "markdown",
      "metadata": {
        "id": "QGkYMpyrjKQ0"
      },
      "source": [
        "# Exercícios Numpy"
      ]
    },
    {
      "cell_type": "code",
      "execution_count": null,
      "metadata": {
        "id": "m3jsnK4QAx1z"
      },
      "outputs": [],
      "source": [
        "#Importe o pacote numpy com o nome np.\n",
        "import numpy as np"
      ]
    },
    {
      "cell_type": "code",
      "execution_count": null,
      "metadata": {
        "colab": {
          "base_uri": "https://localhost:8080/"
        },
        "id": "bD0sFjALLtDY",
        "outputId": "3d040208-5f8b-463f-f7c5-6f8261ab56cd"
      },
      "outputs": [
        {
          "name": "stdout",
          "output_type": "stream",
          "text": [
            "[0 1 2 3 4 5 6 7 8 9]\n"
          ]
        }
      ],
      "source": [
        "# Crie o seguinte vetor unidimensional (1D):\n",
        "vetor = np.array([0, 1, 2, 3, 4, 5, 6, 7, 8, 9]) \n",
        "print(vetor)"
      ]
    },
    {
      "cell_type": "code",
      "execution_count": null,
      "metadata": {
        "colab": {
          "base_uri": "https://localhost:8080/"
        },
        "id": "IUB3eZpOMGpD",
        "outputId": "a263be44-25bc-4555-9351-677373aed4ec"
      },
      "outputs": [
        {
          "name": "stdout",
          "output_type": "stream",
          "text": [
            "10\n"
          ]
        }
      ],
      "source": [
        "#Qual é o comprimento len do vetor?\n",
        "print(len(vetor))   "
      ]
    },
    {
      "cell_type": "code",
      "execution_count": null,
      "metadata": {
        "colab": {
          "base_uri": "https://localhost:8080/"
        },
        "id": "I0DjNij7MTEo",
        "outputId": "9cae54c2-ee94-4fab-d06b-7de46a989679"
      },
      "outputs": [
        {
          "name": "stdout",
          "output_type": "stream",
          "text": [
            "1\n"
          ]
        }
      ],
      "source": [
        "#Quantas dimensões ndim o vetor possui?\n",
        "print(vetor.ndim)"
      ]
    },
    {
      "cell_type": "code",
      "execution_count": null,
      "metadata": {
        "colab": {
          "base_uri": "https://localhost:8080/"
        },
        "id": "LrJqDvGrOPcr",
        "outputId": "19bcb930-c1b2-41e9-ad65-a6782d565341"
      },
      "outputs": [
        {
          "name": "stdout",
          "output_type": "stream",
          "text": [
            "(10,)\n"
          ]
        }
      ],
      "source": [
        "#O que a função shape retorna?\n",
        "print(vetor.shape)"
      ]
    },
    {
      "cell_type": "code",
      "execution_count": null,
      "metadata": {
        "colab": {
          "base_uri": "https://localhost:8080/"
        },
        "id": "DHsowpgnQjOY",
        "outputId": "4ee19353-3f0c-4360-985b-dba9c1f8743c"
      },
      "outputs": [
        {
          "name": "stdout",
          "output_type": "stream",
          "text": [
            "[0, 2, 4, 6, 8]\n"
          ]
        }
      ],
      "source": [
        "#Crie a variável pares e extraia todos os números pares do vetor para ela:\n",
        "pares = []\n",
        "\n",
        "for par in vetor:\n",
        "  if par % 2 == 0: pares.append(par)\n",
        "\n",
        "print(pares)"
      ]
    },
    {
      "cell_type": "code",
      "execution_count": null,
      "metadata": {
        "colab": {
          "base_uri": "https://localhost:8080/"
        },
        "id": "So8WzkUeSehY",
        "outputId": "267c92bb-e0a5-4ac7-95e0-a282bb1c674b"
      },
      "outputs": [
        {
          "name": "stdout",
          "output_type": "stream",
          "text": [
            "[ 0 -1  2 -1  4 -1  6 -1  8 -1]\n"
          ]
        },
        {
          "data": {
            "text/plain": [
              "array([-1, -1, -1, -1, -1,  0,  2,  4,  6,  8])"
            ]
          },
          "execution_count": 6,
          "metadata": {},
          "output_type": "execute_result"
        }
      ],
      "source": [
        "#Substitua todos os elementos ímpares do vetor por -1, em seguida, ordene os resultados:\n",
        "vetor = np.arange(0, 10) \n",
        "\n",
        "for i in vetor:\n",
        "  if i % 2 != 0: vetor[i] = -1\n",
        "\n",
        "print(vetor)\n",
        "vetor.sort()\n",
        "vetor"
      ]
    },
    {
      "cell_type": "code",
      "execution_count": null,
      "metadata": {
        "colab": {
          "base_uri": "https://localhost:8080/"
        },
        "id": "DNXv_m8ibiar",
        "outputId": "b0d959da-c653-465d-8e23-b71628b35373"
      },
      "outputs": [
        {
          "name": "stdout",
          "output_type": "stream",
          "text": [
            "[[ 0  1  2]\n",
            " [ 3  4  5]\n",
            " [ 6  7  8]\n",
            " [ 9 10 11]]\n"
          ]
        }
      ],
      "source": [
        "#Converta o vetor unidimensional (1D) abaixo para uma matriz (2D) com 4 linhas. Dica: reshape.\n",
        "\n",
        "vetor = np.arange(12)\n",
        "vetor = vetor.reshape(4,3)\n",
        "print(vetor)"
      ]
    },
    {
      "cell_type": "code",
      "execution_count": null,
      "metadata": {
        "colab": {
          "base_uri": "https://localhost:8080/"
        },
        "id": "wVwOghYv9KeW",
        "outputId": "da5d753a-e7b3-4b6f-edfe-9c57da4a3978"
      },
      "outputs": [
        {
          "name": "stdout",
          "output_type": "stream",
          "text": [
            "[2 4 6]\n"
          ]
        }
      ],
      "source": [
        "#Obtenha os itens em comum, ou seja, a intersecção dos vetores a e b abaixo:\n",
        "a = np.array([1, 2, 3, 4, 5, 6])\n",
        "b = np.array([2, 4, 6, 8, 10])\n",
        "\n",
        "res = np.intersect1d(a,b)\n",
        "\n",
        "print(res)"
      ]
    },
    {
      "cell_type": "code",
      "execution_count": null,
      "metadata": {
        "colab": {
          "base_uri": "https://localhost:8080/"
        },
        "id": "wbStYbBezw3s",
        "outputId": "6b115ae9-74a8-49a9-a175-267a8f955b18"
      },
      "outputs": [
        {
          "name": "stdout",
          "output_type": "stream",
          "text": [
            "[1 3]\n"
          ]
        }
      ],
      "source": [
        "#Retorne os valores únicos do vetor a que não estão no vetor b (diferença).\n",
        "\n",
        "a = np.array([1, 2, 3, 4])\n",
        "b = np.array([2, 4, 6, 8, 10])\n",
        "\n",
        "res = np.setdiff1d(a,b)\n",
        "print(res)              "
      ]
    },
    {
      "cell_type": "code",
      "execution_count": null,
      "metadata": {
        "colab": {
          "base_uri": "https://localhost:8080/"
        },
        "id": "U80sgQeh4u7i",
        "outputId": "68d72bf4-3dd9-47a1-e4e5-4557569f0d5c"
      },
      "outputs": [
        {
          "name": "stdout",
          "output_type": "stream",
          "text": [
            "(array([2, 3, 5]),)\n"
          ]
        }
      ],
      "source": [
        "#Retorne um vetor com as posições (índices) onde os elementos do vetor a sãos iguais aos elementos do vetor b. Dica: where.\n",
        "\n",
        "a = np.array([1, 2, 3, 4, 5, 6])\n",
        "b = np.array([2, 4, 3, 4, 10, 6])\n",
        "\n",
        "print(np.where(a == b))"
      ]
    },
    {
      "cell_type": "code",
      "execution_count": null,
      "metadata": {
        "colab": {
          "base_uri": "https://localhost:8080/"
        },
        "id": "rolgkoL5-hPs",
        "outputId": "df8b56b6-af66-48db-92f2-cc6b79a0561f"
      },
      "outputs": [
        {
          "name": "stdout",
          "output_type": "stream",
          "text": [
            "(array([ 6,  7,  8,  9, 10, 11, 12, 13, 14]),)\n"
          ]
        }
      ],
      "source": [
        "#Obtenha todos os itens entre 5 e 15 do vetor a = [0, 1, 2, 3, . . ., 20].\n",
        "a = np.arange(21)\n",
        "a\n",
        "print(np.where((a > 5) & (a < 15)))"
      ]
    },
    {
      "cell_type": "code",
      "execution_count": null,
      "metadata": {
        "colab": {
          "base_uri": "https://localhost:8080/"
        },
        "id": "lx6l2RgU_iEW",
        "outputId": "5bf60236-750a-454b-9a1d-6eef00c67a37"
      },
      "outputs": [
        {
          "name": "stdout",
          "output_type": "stream",
          "text": [
            "[96 16 41 26 87]\n",
            "Máximo: 96 Mínimo: 16\n"
          ]
        }
      ],
      "source": [
        "#Crie e imprima um vetor com 5 números aleatórios, sem seguida, obtenha os valores máximo e mínimo dele e mostre na tela.\n",
        "vetor = np.random.randint(100, size=(5))\n",
        "print(vetor)\n",
        "print(\"Máximo:\", vetor.max(), \"Mínimo:\", vetor.min())"
      ]
    },
    {
      "cell_type": "code",
      "execution_count": null,
      "metadata": {
        "colab": {
          "base_uri": "https://localhost:8080/"
        },
        "id": "YOCuILI4Bvqn",
        "outputId": "f3f46ed8-6c73-45c7-b750-a8186e8ab404"
      },
      "outputs": [
        {
          "data": {
            "text/plain": [
              "array([[7, 8, 9],\n",
              "       [4, 5, 6],\n",
              "       [1, 2, 3]])"
            ]
          },
          "execution_count": 46,
          "metadata": {},
          "output_type": "execute_result"
        }
      ],
      "source": [
        "#Crie a seguinte matriz:\n",
        "matriz = np.array([ [7,8,9],[4,5,6],[1,2,3] ])\n",
        "matriz"
      ]
    },
    {
      "cell_type": "code",
      "execution_count": null,
      "metadata": {
        "colab": {
          "base_uri": "https://localhost:8080/"
        },
        "id": "zBWr0B13FjN-",
        "outputId": "bb092c17-0fd8-4aa5-a8d4-bb394655e4e2"
      },
      "outputs": [
        {
          "name": "stdout",
          "output_type": "stream",
          "text": [
            "[[9 8 7]\n",
            " [6 5 4]\n",
            " [3 2 1]]\n"
          ]
        }
      ],
      "source": [
        "#Troque de lugar a primeira coluna com a útltima coluna da matriz.\n",
        "matriz = np.array([ [7,8,9],[4,5,6],[1,2,3] ])\n",
        "matriz[:, [2, 0]] = matriz[:, [0, 2]] \n",
        "print(matriz)"
      ]
    },
    {
      "cell_type": "code",
      "execution_count": null,
      "metadata": {
        "colab": {
          "base_uri": "https://localhost:8080/"
        },
        "id": "BjbhJrecH167",
        "outputId": "f03a73d1-54d3-4406-cf1b-20335abf8f76"
      },
      "outputs": [
        {
          "name": "stdout",
          "output_type": "stream",
          "text": [
            "[[1 2 3]\n",
            " [4 5 6]\n",
            " [7 8 9]]\n"
          ]
        }
      ],
      "source": [
        "#Troque de lugar a primeira linha com a útltima linha da matriz.\n",
        "matriz = np.array([ [7,8,9],[4,5,6],[1,2,3] ])\n",
        "matriz[(0,2), :] = matriz[(2,0), :] \n",
        "print(matriz)"
      ]
    },
    {
      "cell_type": "code",
      "execution_count": null,
      "metadata": {
        "colab": {
          "base_uri": "https://localhost:8080/"
        },
        "id": "ht5lIacJMvEW",
        "outputId": "550b5694-027f-4b82-d62a-d6be34ad7cc0"
      },
      "outputs": [
        {
          "name": "stdout",
          "output_type": "stream",
          "text": [
            "[[1 3 3 5 2]\n",
            " [2 2 3 5 2]\n",
            " [5 1 5 4 3]\n",
            " [1 1 1 3 1]\n",
            " [2 3 2 1 4]\n",
            " [2 4 4 2 2]\n",
            " [3 5 1 2 5]]\n"
          ]
        }
      ],
      "source": [
        "#Crie uma matriz 7 × 5 preenchida com números decimais aleatórios entre 1 e 5.\n",
        "matriz = np.random.randint(1,6,size=(7,5))\n",
        "print(matriz)"
      ]
    },
    {
      "cell_type": "code",
      "execution_count": null,
      "metadata": {
        "colab": {
          "base_uri": "https://localhost:8080/"
        },
        "id": "Le0ANIJLhJVI",
        "outputId": "03dd3043-2521-4535-b04b-83d369a0fb99"
      },
      "outputs": [
        {
          "name": "stdout",
          "output_type": "stream",
          "text": [
            "7\n"
          ]
        }
      ],
      "source": [
        "#Qual é o comprimento len da matriz?\n",
        "print(len(matriz))"
      ]
    },
    {
      "cell_type": "code",
      "execution_count": null,
      "metadata": {
        "colab": {
          "base_uri": "https://localhost:8080/"
        },
        "id": "95-qvq6nh536",
        "outputId": "8e5d43d2-1e28-40c9-e9a0-3f142083599b"
      },
      "outputs": [
        {
          "name": "stdout",
          "output_type": "stream",
          "text": [
            "2\n"
          ]
        }
      ],
      "source": [
        "#Quantas dimensões ndim a matriz possui?\n",
        "print(matriz.ndim)"
      ]
    },
    {
      "cell_type": "code",
      "execution_count": null,
      "metadata": {
        "colab": {
          "base_uri": "https://localhost:8080/"
        },
        "id": "3fPpAlW4iD20",
        "outputId": "f84e4ca0-afe1-4bf9-f1d6-8f1a54f90f60"
      },
      "outputs": [
        {
          "name": "stdout",
          "output_type": "stream",
          "text": [
            "(7, 5)\n"
          ]
        }
      ],
      "source": [
        "#O que a função shape retorna?\n",
        "print(matriz.shape)"
      ]
    },
    {
      "cell_type": "markdown",
      "metadata": {
        "id": "nqkjtLnZiu3z"
      },
      "source": [
        "# EXERCÍCIO: Análise de Dados dos Jogadores da FIFA \n"
      ]
    },
    {
      "cell_type": "code",
      "execution_count": 140,
      "metadata": {
        "id": "VJQCHXZzi5GZ"
      },
      "outputs": [],
      "source": [
        "#Importe o pacote numpy com o nome np.\n",
        "import numpy as np"
      ]
    },
    {
      "cell_type": "code",
      "execution_count": 141,
      "metadata": {
        "colab": {
          "base_uri": "https://localhost:8080/"
        },
        "id": "DW9sdk2vkQQ9",
        "outputId": "53c4804d-955d-4a75-b1c8-1fe40d4f3941"
      },
      "outputs": [
        {
          "output_type": "execute_result",
          "data": {
            "text/plain": [
              "array([[b'158023', b'L. Messi', b'31', ..., b'72.121', b'RF', b'10'],\n",
              "       [b'20801', b'Cristiano Ronaldo', b'33', ..., b'83.007', b'ST',\n",
              "        b'7'],\n",
              "       [b'190871', b'Neymar Jr', b'26', ..., b'68.039', b'LW', b'10'],\n",
              "       ...,\n",
              "       [b'241638', b'B. Worman', b'16', ..., b'67.132', b'ST', b'33'],\n",
              "       [b'246268', b'D. Walker-Rice', b'17', ..., b'69.853', b'RW',\n",
              "        b'34'],\n",
              "       [b'246269', b'G. Nugent', b'16', ..., b'79.832', b'CM', b'33']],\n",
              "      dtype=object)"
            ]
          },
          "metadata": {},
          "execution_count": 141
        }
      ],
      "source": [
        "#Carregue o conjunto de dados da Fifa disponível na pasta (data/fifa.csv), ignorando a coluna foto, para uma matriz em uma variavel chamada dados. Dicas:\n",
        "#Pesquise pela função genfromtxt;\n",
        "#Não esqueça de especificar a codificação (encoding) como UTF-8;\n",
        "#Ignore o cabeçalho dos dados usando o parâmetro skip_header=True\n",
        "\n",
        "dados = np.genfromtxt('fifa.csv', delimiter=',', encoding='utf-8', skip_header=True, dtype=object, usecols=[0,1,2,4,5,6,7,8,9,10,11,12,13])\n",
        "dados"
      ]
    },
    {
      "cell_type": "code",
      "execution_count": null,
      "metadata": {
        "colab": {
          "base_uri": "https://localhost:8080/"
        },
        "id": "_eYxg2xjFeSl",
        "outputId": "ac5582ea-bc30-4821-eb70-3517e2f9c842"
      },
      "outputs": [
        {
          "name": "stdout",
          "output_type": "stream",
          "text": [
            "18207\n"
          ]
        }
      ],
      "source": [
        "#Quantas linhas foram lidas do arquivo?\n",
        "print(len(dados))"
      ]
    },
    {
      "cell_type": "code",
      "execution_count": null,
      "metadata": {
        "colab": {
          "base_uri": "https://localhost:8080/"
        },
        "id": "acJAOiCrSMd1",
        "outputId": "6a6e4324-5dde-4e20-d0d2-a8c2b12e00ab"
      },
      "outputs": [
        {
          "data": {
            "text/plain": [
              "2"
            ]
          },
          "execution_count": 35,
          "metadata": {},
          "output_type": "execute_result"
        }
      ],
      "source": [
        "#Quantas dimensões sua variável dados possui?\n",
        "np.ndim(dados)"
      ]
    },
    {
      "cell_type": "code",
      "execution_count": null,
      "metadata": {
        "colab": {
          "base_uri": "https://localhost:8080/"
        },
        "id": "oBTnDNPYSYeZ",
        "outputId": "6035ef0f-90ca-4914-eb0b-d1483275c455"
      },
      "outputs": [
        {
          "name": "stdout",
          "output_type": "stream",
          "text": [
            "(18207, 13)\n"
          ]
        }
      ],
      "source": [
        "#O que a função shape retorna?\n",
        "print(np.shape(dados))"
      ]
    },
    {
      "cell_type": "code",
      "execution_count": null,
      "metadata": {
        "colab": {
          "base_uri": "https://localhost:8080/"
        },
        "id": "FCyupmOxS-MZ",
        "outputId": "bb740735-4865-465d-ddd4-00caae91eb3d"
      },
      "outputs": [
        {
          "name": "stdout",
          "output_type": "stream",
          "text": [
            "b'Brasil'\n"
          ]
        }
      ],
      "source": [
        "#Mostre o dado que está na 3ª linha da 4ª coluna?\n",
        "print(dados[2,3])"
      ]
    },
    {
      "cell_type": "code",
      "execution_count": null,
      "metadata": {
        "colab": {
          "base_uri": "https://localhost:8080/"
        },
        "id": "pg67pszBZMnX",
        "outputId": "7a4a5e45-0dd0-4188-a259-64f9ecb614a6"
      },
      "outputs": [
        {
          "name": "stdout",
          "output_type": "stream",
          "text": [
            "[[b'158023' b'L. Messi' b'31' b'Argentina' b'94' b'94' b'FC Barcelona'\n",
            "  b'Esquerdo' b'5' b'170' b'72.121' b'RF' b'10']]\n"
          ]
        }
      ],
      "source": [
        "#Exiba os dados da primeira linha do dataset.\n",
        "print(dados[:1])"
      ]
    },
    {
      "cell_type": "code",
      "execution_count": null,
      "metadata": {
        "colab": {
          "base_uri": "https://localhost:8080/"
        },
        "id": "XF9KQqUGa0Au",
        "outputId": "d4182a1a-0ff8-4402-9e07-6e92b38a172f"
      },
      "outputs": [
        {
          "name": "stdout",
          "output_type": "stream",
          "text": [
            "[[b'158023' b'L. Messi' b'31' b'Argentina' b'94' b'94' b'FC Barcelona'\n",
            "  b'Esquerdo' b'5' b'170' b'72.121' b'RF' b'10']\n",
            " [b'20801' b'Cristiano Ronaldo' b'33' b'Portugal' b'94' b'94' b'Juventus'\n",
            "  b'Direito' b'5' b'188' b'83.007' b'ST' b'7']\n",
            " [b'190871' b'Neymar Jr' b'26' b'Brasil' b'92' b'93'\n",
            "  b'Paris Saint-Germain' b'Direito' b'5' b'175' b'68.039' b'LW' b'10']\n",
            " [b'193080' b'De Gea' b'27' b'Espanha' b'91' b'93' b'Manchester United'\n",
            "  b'Direito' b'4' b'193' b'76.204' b'GK' b'1']\n",
            " [b'192985' b'K. De Bruyne' b'27' b'B\\xe9lgica' b'91' b'92'\n",
            "  b'Manchester City' b'Direito' b'4' b'155' b'69.853' b'RCM' b'7']]\n"
          ]
        }
      ],
      "source": [
        "#Mostre as 5 primeiras linhas do conjunto de dados.\n",
        "print(dados[:5])"
      ]
    },
    {
      "cell_type": "code",
      "execution_count": null,
      "metadata": {
        "colab": {
          "background_save": true,
          "base_uri": "https://localhost:8080/"
        },
        "id": "E877oj6ubcE4",
        "outputId": "97d55a82-03ba-4661-fb92-9c54fa115ccc"
      },
      "outputs": [
        {
          "name": "stdout",
          "output_type": "stream",
          "text": [
            "[b'L. Messi' b'Cristiano Ronaldo' b'Neymar Jr' ... b'B. Worman'\n",
            " b'D. Walker-Rice' b'G. Nugent']\n"
          ]
        }
      ],
      "source": [
        "#Selecione todas as linhas da coluna nome (segunda coluna). Dica: use o operador :\n",
        "print(dados[:, 1])"
      ]
    },
    {
      "cell_type": "code",
      "source": [
        "#Inicialize um vetor de inteiros NumPy chamado: idades; com todas as linhas da coluna idade (3ª coluna).\n",
        "\n",
        "idades = dados[:, 2].astype('int')\n",
        "idades"
      ],
      "metadata": {
        "colab": {
          "base_uri": "https://localhost:8080/"
        },
        "id": "Zt-ojq23fa5B",
        "outputId": "b3541625-f750-4d2c-eb7c-5ac0313e30cf"
      },
      "execution_count": 143,
      "outputs": [
        {
          "output_type": "execute_result",
          "data": {
            "text/plain": [
              "array([31, 33, 26, ..., 16, 17, 16])"
            ]
          },
          "metadata": {},
          "execution_count": 143
        }
      ]
    },
    {
      "cell_type": "code",
      "source": [
        "#Qual é a média de idades dos jogadores?\n",
        "print(idades.mean())"
      ],
      "metadata": {
        "colab": {
          "base_uri": "https://localhost:8080/"
        },
        "id": "zWEISn5wk9iu",
        "outputId": "615d7266-8655-43ca-8975-ec86925e5dcb"
      },
      "execution_count": 144,
      "outputs": [
        {
          "output_type": "stream",
          "name": "stdout",
          "text": [
            "25.122205745043114\n"
          ]
        }
      ]
    },
    {
      "cell_type": "code",
      "source": [
        "#Qual é a maior idade do conjunto de dados?\n",
        "\n",
        "print(idades.max())"
      ],
      "metadata": {
        "colab": {
          "base_uri": "https://localhost:8080/"
        },
        "id": "rXJk48YElZwJ",
        "outputId": "85bb0529-8d06-4c8b-af0e-ff6579ca5b89"
      },
      "execution_count": 145,
      "outputs": [
        {
          "output_type": "stream",
          "name": "stdout",
          "text": [
            "45\n"
          ]
        }
      ]
    },
    {
      "cell_type": "code",
      "source": [
        "#Qual é a menor idade do conjunto de dados?\n",
        "\n",
        "print(idades.min())"
      ],
      "metadata": {
        "colab": {
          "base_uri": "https://localhost:8080/"
        },
        "id": "x3N3r7hJllxW",
        "outputId": "f08efc29-9cde-42ce-8347-8c4bb508e1f4"
      },
      "execution_count": 100,
      "outputs": [
        {
          "output_type": "stream",
          "name": "stdout",
          "text": [
            "16\n"
          ]
        }
      ]
    },
    {
      "cell_type": "code",
      "source": [
        "#Selecione todos os jogadores que possuem a maior idade deste conjunto de dados. Quantas linhas retornaram?\n",
        "maior_idade = np.where(idades == 45)\n",
        "mais_velhos = dados[maior_idade]\n",
        "print(len(mais_velhos))"
      ],
      "metadata": {
        "colab": {
          "base_uri": "https://localhost:8080/"
        },
        "id": "RXf3mrF-ltbI",
        "outputId": "5fa3bbc5-beb2-49cf-b650-567da8f44871"
      },
      "execution_count": 150,
      "outputs": [
        {
          "output_type": "stream",
          "name": "stdout",
          "text": [
            "1\n"
          ]
        }
      ]
    },
    {
      "cell_type": "code",
      "source": [
        "#Selecione todos os jogadores que possuem a menor idade deste conjunto de dados. Quantas linhas retornaram?\n",
        "menor_idade = np.where(idades == 16)\n",
        "mais_novos = dados[menor_idade]\n",
        "print(len(mais_novos))"
      ],
      "metadata": {
        "colab": {
          "base_uri": "https://localhost:8080/"
        },
        "id": "N-bUQEUwnZbT",
        "outputId": "695669cd-9203-4106-f4b7-b72d83a3caf5"
      },
      "execution_count": 149,
      "outputs": [
        {
          "output_type": "stream",
          "name": "stdout",
          "text": [
            "42\n"
          ]
        }
      ]
    },
    {
      "cell_type": "code",
      "source": [
        "#Selecione todos os jogadores brasileiros para uma variável chamada dados_brasil. Use b'Brasil' para fazer a comparação.\n",
        "condicao = np.where(dados[:, 3] == b'Brasil')\n",
        "dados_brasil = dados[condicao]"
      ],
      "metadata": {
        "id": "NiaCqsbjo2B_"
      },
      "execution_count": 154,
      "outputs": []
    },
    {
      "cell_type": "code",
      "source": [
        "#Quantos são os jogadores brasileiros?\n",
        "print(len(dados_brasil), \"Jogadores\")"
      ],
      "metadata": {
        "colab": {
          "base_uri": "https://localhost:8080/"
        },
        "id": "LLrpdOA2xQub",
        "outputId": "c072b6e2-1ac2-4240-8910-c37385d7f1ac"
      },
      "execution_count": 156,
      "outputs": [
        {
          "output_type": "stream",
          "name": "stdout",
          "text": [
            "69 Jogadores\n"
          ]
        }
      ]
    },
    {
      "cell_type": "code",
      "source": [
        "#Para as colunas idade, altura e peso, calcule: Média, Mediana, Máximo e Mínimo\n",
        "idades_brasileiros = dados_brasil[:, 2].astype('float')\n",
        "alturas_brasileiros = dados_brasil[:, 9].astype('float')\n",
        "pesos_brasileiros = dados_brasil[:, 10].astype('float')\n",
        "\n",
        "idade_media = round(idades_brasileiros.mean(), 2)\n",
        "idade_mediana = np.median(idades_brasileiros) \n",
        "idade_maxima = idades_brasileiros.max()\n",
        "idade_minima = idades_brasileiros.min()\n",
        "\n",
        "altura_media = round(alturas_brasileiros.mean())\n",
        "altura_mediana = np.median(alturas_brasileiros) \n",
        "altura_maxima = alturas_brasileiros.max()\n",
        "altura_minima = alturas_brasileiros.min()\n",
        "\n",
        "peso_medio = round(pesos_brasileiros.mean())\n",
        "peso_mediano = np.median(pesos_brasileiros) \n",
        "peso_maximo = pesos_brasileiros.max()\n",
        "peso_minimo = pesos_brasileiros.min()\n",
        "\n",
        "print(f\"Idades: Média - {idade_media} Mediana: {idade_mediana} Máxima: {idade_maxima} Mínima: {idade_minima}\")\n",
        "print(f\"Alturas: Média - {altura_media} Mediana: {altura_mediana} Máxima: {altura_maxima} Mínima: {altura_minima}\")\n",
        "print(f\"Pesos: Média - {peso_medio} Mediana: {peso_mediano} Máxima: {peso_maximo} Mínima: {peso_minimo}\")"
      ],
      "metadata": {
        "colab": {
          "base_uri": "https://localhost:8080/"
        },
        "id": "VJVSXBwDxfsh",
        "outputId": "f11161d6-4bd6-40fd-ba6b-acfbed7a6514"
      },
      "execution_count": 165,
      "outputs": [
        {
          "output_type": "stream",
          "name": "stdout",
          "text": [
            "Idades: Média - 28.03 Mediana: 28.0 Máxima: 35.0 Mínima: 21.0\n",
            "Alturas: Média - 175 Mediana: 175.0 Máxima: 198.0 Mínima: 152.0\n",
            "Pesos: Média - 77 Mediana: 76.204 Máxima: 92.986 Mínima: 59.874\n"
          ]
        }
      ]
    },
    {
      "cell_type": "code",
      "source": [
        "#Calcule o desvio padrão da reputação dos jogadores brasileiros\n",
        "reputacao_brasileiros = dados_brasil[:, 8].astype('float')\n",
        "\n",
        "desvio = round(np.std(reputacao_brasileiros), 2)\n",
        "print(f\"Desvio padrão: {desvio}\")"
      ],
      "metadata": {
        "colab": {
          "base_uri": "https://localhost:8080/"
        },
        "id": "FCve7wxM32FZ",
        "outputId": "2292c739-8f9b-4b0b-d976-bb25f2cb3a53"
      },
      "execution_count": 171,
      "outputs": [
        {
          "output_type": "stream",
          "name": "stdout",
          "text": [
            "Desvio padrão: 1.01\n"
          ]
        }
      ]
    },
    {
      "cell_type": "code",
      "source": [
        "#Qual jogador brasileiro tem menor pontencial?\n",
        "potencial_brasileiros = dados_brasil[:, 5].astype('float').min()\n",
        "\n",
        "print(f\"Menor potencial: {potencial_brasileiros}\")"
      ],
      "metadata": {
        "colab": {
          "base_uri": "https://localhost:8080/"
        },
        "id": "vY_3WEDq6n86",
        "outputId": "ebc9252f-723f-4daf-d451-a0748980f1e5"
      },
      "execution_count": 175,
      "outputs": [
        {
          "output_type": "stream",
          "name": "stdout",
          "text": [
            "Menor potencial: 79.0\n"
          ]
        }
      ]
    }
  ],
  "metadata": {
    "colab": {
      "provenance": [],
      "collapsed_sections": []
    },
    "kernelspec": {
      "display_name": "Python 3",
      "name": "python3"
    },
    "language_info": {
      "name": "python"
    }
  },
  "nbformat": 4,
  "nbformat_minor": 0
}
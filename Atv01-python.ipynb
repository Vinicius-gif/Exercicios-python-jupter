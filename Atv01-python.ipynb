{
 "cells": [
  {
   "cell_type": "code",
   "execution_count": 3,
   "id": "f35c60de",
   "metadata": {},
   "outputs": [
    {
     "name": "stdout",
     "output_type": "stream",
     "text": [
      "Olá Mundo!\n"
     ]
    }
   ],
   "source": [
    "# Escreva um algoritmo que imprima na tela: Olá Mundo!\n",
    "\n",
    "print(\"Olá Mundo!\")"
   ]
  },
  {
   "cell_type": "code",
   "execution_count": 3,
   "id": "bad98721",
   "metadata": {},
   "outputs": [
    {
     "name": "stdout",
     "output_type": "stream",
     "text": [
      "Escreva seu nome: vinicius\n",
      "Olá  vinicius\n"
     ]
    }
   ],
   "source": [
    "#Escreva um programa que imprima seu nome na tela.\n",
    "\n",
    "nome = input('Escreva seu nome: ')\n",
    "print(\"Olá \", nome)"
   ]
  },
  {
   "cell_type": "code",
   "execution_count": 4,
   "id": "e15a0a1d",
   "metadata": {},
   "outputs": [
    {
     "name": "stdout",
     "output_type": "stream",
     "text": [
      "*\n",
      "**\n",
      "***\n",
      "****\n",
      "*****\n"
     ]
    }
   ],
   "source": [
    "#O que o codigo³digo a seguir imprime?\n",
    "\n",
    "print(\"*\\n**\\n***\\n****\\n*****\")"
   ]
  },
  {
   "cell_type": "code",
   "execution_count": 8,
   "id": "db1f47a7",
   "metadata": {},
   "outputs": [
    {
     "ename": "NameError",
     "evalue": "name 'x' is not defined",
     "output_type": "error",
     "traceback": [
      "\u001b[1;31m---------------------------------------------------------------------------\u001b[0m",
      "\u001b[1;31mNameError\u001b[0m                                 Traceback (most recent call last)",
      "\u001b[1;32m~\\AppData\\Local\\Temp\\ipykernel_9524\\2790940071.py\u001b[0m in \u001b[0;36m<module>\u001b[1;34m\u001b[0m\n\u001b[1;32m----> 1\u001b[1;33m \u001b[0mprint\u001b[0m\u001b[1;33m(\u001b[0m\u001b[0mx\u001b[0m \u001b[1;33m=\u001b[0m \u001b[1;36m2\u001b[0m \u001b[1;33m+\u001b[0m \u001b[0mx\u001b[0m\u001b[1;33m)\u001b[0m\u001b[1;33m;\u001b[0m\u001b[1;33m\u001b[0m\u001b[1;33m\u001b[0m\u001b[0m\n\u001b[0m\u001b[0;32m      2\u001b[0m \u001b[0mprint\u001b[0m\u001b[1;33m(\u001b[0m\u001b[1;34m\"O valor de x + x é \"\u001b[0m \u001b[1;33m+\u001b[0m \u001b[1;33m(\u001b[0m\u001b[0mx\u001b[0m \u001b[1;33m+\u001b[0m \u001b[0mx\u001b[0m\u001b[1;33m)\u001b[0m\u001b[1;33m)\u001b[0m\u001b[1;33m;\u001b[0m\u001b[1;33m\u001b[0m\u001b[1;33m\u001b[0m\u001b[0m\n\u001b[0;32m      3\u001b[0m \u001b[0mprint\u001b[0m\u001b[1;33m(\u001b[0m\u001b[0my\u001b[0m \u001b[1;33m=\u001b[0m \u001b[1;36m3\u001b[0m\u001b[1;33m)\u001b[0m\u001b[1;33m;\u001b[0m\u001b[1;33m\u001b[0m\u001b[1;33m\u001b[0m\u001b[0m\n\u001b[0;32m      4\u001b[0m \u001b[0mprint\u001b[0m\u001b[1;33m(\u001b[0m\u001b[1;33m(\u001b[0m\u001b[0mx\u001b[0m \u001b[1;33m+\u001b[0m \u001b[0my\u001b[0m\u001b[1;33m)\u001b[0m \u001b[1;33m+\u001b[0m \u001b[1;34m\" = \"\u001b[0m \u001b[1;33m+\u001b[0m \u001b[1;33m(\u001b[0m\u001b[0my\u001b[0m \u001b[1;33m+\u001b[0m \u001b[0mx\u001b[0m\u001b[1;33m)\u001b[0m\u001b[1;33m)\u001b[0m\u001b[1;33m;\u001b[0m\u001b[1;33m\u001b[0m\u001b[1;33m\u001b[0m\u001b[0m\n",
      "\u001b[1;31mNameError\u001b[0m: name 'x' is not defined"
     ]
    }
   ],
   "source": [
    "print(x = 2 + x);\n",
    "print(\"O valor de x + x é \" + (x + x));\n",
    "print(y = 3);\n",
    "print((x + y) + \" = \" + (y + x));"
   ]
  },
  {
   "cell_type": "code",
   "execution_count": 9,
   "id": "ff22a960",
   "metadata": {},
   "outputs": [
    {
     "name": "stdout",
     "output_type": "stream",
     "text": [
      "A programação é aprendida escrevendo programas - Brian Kernighan\n"
     ]
    }
   ],
   "source": [
    "print(\"A programação é aprendida escrevendo programas - Brian Kernighan\")"
   ]
  },
  {
   "cell_type": "code",
   "execution_count": 10,
   "id": "3a99ce9c",
   "metadata": {},
   "outputs": [
    {
     "name": "stdout",
     "output_type": "stream",
     "text": [
      "675\n"
     ]
    }
   ],
   "source": [
    "print(25*27)"
   ]
  },
  {
   "cell_type": "code",
   "execution_count": 12,
   "id": "8816d71e",
   "metadata": {},
   "outputs": [
    {
     "name": "stdout",
     "output_type": "stream",
     "text": [
      "10.333333333333334\n"
     ]
    }
   ],
   "source": [
    "print((4+12+15) / 3)"
   ]
  },
  {
   "cell_type": "code",
   "execution_count": 14,
   "id": "33daf579",
   "metadata": {},
   "outputs": [
    {
     "name": "stdout",
     "output_type": "stream",
     "text": [
      "Escreva um número qualquer: 4\n",
      "O número inteiro digitado foi 4\n"
     ]
    }
   ],
   "source": [
    "numero = input('Escreva um número qualquer: ')\n",
    "print(\"O número inteiro digitado foi\", numero)"
   ]
  },
  {
   "cell_type": "code",
   "execution_count": 19,
   "id": "26f9c528",
   "metadata": {},
   "outputs": [
    {
     "name": "stdout",
     "output_type": "stream",
     "text": [
      "digite um valor inteiro: 3\n",
      "digite outro valor inteiro: -4\n",
      "3 -4\n"
     ]
    }
   ],
   "source": [
    "valor_int_1 = int(input(\"digite um valor inteiro: \"))\n",
    "valor_int_2 = int(input(\"digite outro valor inteiro: \"))\n",
    "print(valor_int_1, valor_int_2)"
   ]
  },
  {
   "cell_type": "code",
   "execution_count": 20,
   "id": "b55cbd98",
   "metadata": {},
   "outputs": [
    {
     "name": "stdout",
     "output_type": "stream",
     "text": [
      "digite um valor inteiro: 2\n",
      "sucessor: 3 antecessor: 1\n"
     ]
    }
   ],
   "source": [
    "valor_int = int(input(\"digite um valor inteiro: \"))\n",
    "print(\"sucessor:\", valor_int+1, \"antecessor:\", valor_int-1)"
   ]
  },
  {
   "cell_type": "code",
   "execution_count": 22,
   "id": "477c2ad3",
   "metadata": {},
   "outputs": [
    {
     "name": "stdout",
     "output_type": "stream",
     "text": [
      "Escreva seu nome:vinicius\n",
      "Escreva seu endereço:rua fulano, 98, bairro tal\n",
      "Digite seu numero de telefone:0000000\n",
      "Nome: vinicius \n",
      " Endereço: rua fulano, 98, bairro tal \n",
      " Telefone: 0000000\n"
     ]
    }
   ],
   "source": [
    "nome = input('Escreva seu nome:')\n",
    "endereco = input('Escreva seu endereço:')\n",
    "tel = input(\"Digite seu numero de telefone:\")\n",
    "print(\"Nome:\", nome, \"\\n Endereço:\", endereco, \"\\n Telefone:\", tel)"
   ]
  },
  {
   "cell_type": "code",
   "execution_count": 23,
   "id": "f22ffa45",
   "metadata": {},
   "outputs": [
    {
     "name": "stdout",
     "output_type": "stream",
     "text": [
      "digite um valor inteiro: 2\n",
      "digite um valor inteiro: 3\n",
      "Resultado da multiplicação: 6\n"
     ]
    }
   ],
   "source": [
    "valor_int_1 = int(input(\"digite um valor inteiro: \"))\n",
    "valor_int_2 = int(input(\"digite um valor inteiro: \"))\n",
    "print(\"Resultado da multiplicação:\", valor_int_1*valor_int_2)"
   ]
  },
  {
   "cell_type": "code",
   "execution_count": 4,
   "id": "267d5c79",
   "metadata": {},
   "outputs": [
    {
     "name": "stdout",
     "output_type": "stream",
     "text": [
      "digite um valor: 6.5\n",
      "Divisão por 3: 2.1666666666666665\n"
     ]
    }
   ],
   "source": [
    "valor = float(input(\"digite um valor: \"))\n",
    "print(\"Divisão por 3:\", valor/3)"
   ]
  },
  {
   "cell_type": "code",
   "execution_count": 6,
   "id": "b3aeba28",
   "metadata": {},
   "outputs": [
    {
     "name": "stdout",
     "output_type": "stream",
     "text": [
      "digite o valor do dividendo: 9\n",
      "digite o valor do divisor: 2\n",
      "9.0 / 2.0 = 4.5  Resto: 1.0\n"
     ]
    }
   ],
   "source": [
    "dividendo = float(input(\"digite o valor do dividendo: \"))\n",
    "divisor = float(input(\"digite o valor do divisor: \"))\n",
    "quociente = dividendo / divisor\n",
    "resto = dividendo % divisor\n",
    "print(dividendo, \"/\", divisor, \"=\", quociente, \" Resto:\", resto)"
   ]
  },
  {
   "cell_type": "code",
   "execution_count": 7,
   "id": "5298bf63",
   "metadata": {},
   "outputs": [
    {
     "name": "stdout",
     "output_type": "stream",
     "text": [
      "digite um valor: 2\n",
      "digite um valor: 3\n",
      "Soma: 5.0 Subtração: -1.0 Multiplição: 6.0 Divisão: 0.6666666666666666\n"
     ]
    }
   ],
   "source": [
    "valor_1 = float(input(\"digite um valor: \"))\n",
    "valor_2 = float(input(\"digite um valor: \"))\n",
    "print(\"Soma:\", valor_1 + valor_2, \"Subtração:\", valor_1 - valor_2, \"Multiplição:\", valor_1 * valor_2, \"Divisão:\", valor_1 / valor_2)"
   ]
  },
  {
   "cell_type": "code",
   "execution_count": 8,
   "id": "1f241a63",
   "metadata": {},
   "outputs": [
    {
     "name": "stdout",
     "output_type": "stream",
     "text": [
      "digite um valor inteiro: 2\n",
      "digite um valor inteiro: 3\n",
      "digite um valor inteiro: 4\n",
      "digite um valor inteiro: 5\n",
      "Soma dos valores: 14\n"
     ]
    }
   ],
   "source": [
    "valor_int_1 = int(input(\"digite um valor inteiro: \"))\n",
    "valor_int_2 = int(input(\"digite um valor inteiro: \"))\n",
    "valor_int_3 = int(input(\"digite um valor inteiro: \"))\n",
    "valor_int_4 = int(input(\"digite um valor inteiro: \"))\n",
    "soma = valor_int_1 + valor_int_2 + valor_int_3 + valor_int_4\n",
    "print(\"Soma dos valores:\", soma)"
   ]
  },
  {
   "cell_type": "code",
   "execution_count": 10,
   "id": "6f40a85a",
   "metadata": {},
   "outputs": [
    {
     "name": "stdout",
     "output_type": "stream",
     "text": [
      "digite um valor: 10\n",
      "digite um valor: 10\n",
      "digite um valor: 10\n",
      "Média: 10.0\n"
     ]
    }
   ],
   "source": [
    "valor_1 = float(input(\"digite um valor: \"))\n",
    "valor_2 = float(input(\"digite um valor: \"))\n",
    "valor_3 = float(input(\"digite um valor: \"))\n",
    "media = (valor_1+valor_2+valor_3) / 3\n",
    "print(\"Média:\", media)"
   ]
  },
  {
   "cell_type": "code",
   "execution_count": 13,
   "id": "5878705a",
   "metadata": {},
   "outputs": [
    {
     "name": "stdout",
     "output_type": "stream",
     "text": [
      "digite o valor 1: 2\n",
      "digite o peso 1: 2\n",
      "digite o valor 2: 3\n",
      "digite o peso 2: 1\n",
      "digite o valor 3: 3\n",
      "digite o peso 3: 2\n",
      "Média ponderada dos valores: 2.6\n"
     ]
    }
   ],
   "source": [
    "valor_1 = float(input(\"digite o valor 1: \"))\n",
    "peso_1 = float(input(\"digite o peso 1: \"))\n",
    "valor_2 = float(input(\"digite o valor 2: \"))\n",
    "peso_2 = float(input(\"digite o peso 2: \"))\n",
    "valor_3 = float(input(\"digite o valor 3: \"))\n",
    "peso_3 = float(input(\"digite o peso 3: \"))\n",
    "\n",
    "media_ponderada = ((valor_1*peso_1) + (valor_2*peso_2) + (valor_3*peso_3)) / (peso_1+peso_2+peso_3)\n",
    "\n",
    "print(\"Média ponderada dos valores:\", media_ponderada)"
   ]
  },
  {
   "cell_type": "code",
   "execution_count": 14,
   "id": "34b8b8e1",
   "metadata": {},
   "outputs": [
    {
     "name": "stdout",
     "output_type": "stream",
     "text": [
      "Digite o valor do salário atual:1000\n",
      "O novo salário é de: 1250.0\n"
     ]
    }
   ],
   "source": [
    "salario_atual = float(input(\"Digite o valor do salário atual:\"))\n",
    "\n",
    "salario_novo = salario_atual + (salario_atual*0.25)\n",
    "\n",
    "print(\"O novo salário é de:\", salario_novo)"
   ]
  },
  {
   "cell_type": "code",
   "execution_count": 15,
   "id": "e882b5d9",
   "metadata": {},
   "outputs": [
    {
     "name": "stdout",
     "output_type": "stream",
     "text": [
      "Digite o valor do salário atual:1000\n",
      "Digite o percentual do aumento:25\n",
      "O novo salário é de: 1250.0\n"
     ]
    }
   ],
   "source": [
    "salario_atual = float(input(\"Digite o valor do salário atual:\"))\n",
    "aumento = float(input(\"Digite o percentual do aumento:\"))\n",
    "\n",
    "conversao = aumento / 100\n",
    "\n",
    "salario_novo = salario_atual + (salario_atual*conversao)\n",
    "\n",
    "print(\"O novo salário é de:\", salario_novo)"
   ]
  },
  {
   "cell_type": "code",
   "execution_count": 17,
   "id": "bad9a6e3",
   "metadata": {},
   "outputs": [
    {
     "name": "stdout",
     "output_type": "stream",
     "text": [
      "Digite o valor do salário base:1000\n",
      "O salário a receber é de: 980.0\n"
     ]
    }
   ],
   "source": [
    "#Faça um programa que receba o salário base de um funcionário, calcule e mostre o salário a receber,\n",
    "#sabendo-se que o funcionário tem gratificação de 5% sobre o salário base e paga imposto de 7% também sobre o salário base.\n",
    "\n",
    "salario_base = float(input(\"Digite o valor do salário base:\"))\n",
    "\n",
    "gratificacao = salario_base * (5 / 100)\n",
    "roubo_do_governo = salario_base * (7 / 100)\n",
    "\n",
    "salario_total = (salario_base + gratificacao) - roubo_do_governo\n",
    "\n",
    "print(\"O salário a receber é de:\", salario_total)"
   ]
  },
  {
   "cell_type": "code",
   "execution_count": 18,
   "id": "7d185ef7",
   "metadata": {},
   "outputs": [
    {
     "name": "stdout",
     "output_type": "stream",
     "text": [
      "Digite o valor do salário base:1000\n",
      "O salário a receber é de: 950.0\n"
     ]
    }
   ],
   "source": [
    "#Faça um programa que receba o salário base de um funcionário, calcule e mostre seu salário a receber,\n",
    "#sabendo-se que o funcionário tem gratificação de R$ 50,00 e paga imposto de 10% sobre o salário base.\n",
    "\n",
    "salario_base = float(input(\"Digite o valor do salário base:\"))\n",
    "\n",
    "gratificacao = 50\n",
    "roubo_do_governo = salario_base * (10 / 100)\n",
    "\n",
    "salario_total = (salario_base + gratificacao) - roubo_do_governo\n",
    "\n",
    "print(\"O salário a receber é de:\", salario_total)"
   ]
  },
  {
   "cell_type": "code",
   "execution_count": 19,
   "id": "35c0a4c3",
   "metadata": {},
   "outputs": [
    {
     "name": "stdout",
     "output_type": "stream",
     "text": [
      "Digite o valor do deposito: 1000\n",
      "Digite o percentual da taxa de juros: 25\n",
      "Rendimento: 250.0 Valor total: 1250.0\n"
     ]
    }
   ],
   "source": [
    "#Faça um programa que receba o valor de um depósito e o valor da taxa de juros,\n",
    "#calcule e mostre o valor do rendimento e o valor total depois do rendimento.\n",
    "\n",
    "valor_deposito = float(input(\"Digite o valor do deposito: \"))\n",
    "valor_juros = float(input(\"Digite o percentual da taxa de juros: \"))\n",
    "\n",
    "rendimento = valor_deposito * (valor_juros / 100)\n",
    "\n",
    "valor_total = valor_deposito + rendimento\n",
    "\n",
    "print(\"Rendimento:\", rendimento, \"Valor total:\", valor_total)"
   ]
  },
  {
   "cell_type": "code",
   "execution_count": 20,
   "id": "448692d2",
   "metadata": {},
   "outputs": [
    {
     "name": "stdout",
     "output_type": "stream",
     "text": [
      "Digite o valor da base do triângulo: 10\n",
      "Digite o valor da altura do triângulo: 5\n",
      "Área do triângulo: 25.0\n"
     ]
    }
   ],
   "source": [
    "#Faça um programa que calcule e mostre a área de um triângulo. Sabe-se que: Área = (base * altura) / 2.\n",
    "\n",
    "base = float(input(\"Digite o valor da base do triângulo: \"))\n",
    "altura = float(input(\"Digite o valor da altura do triângulo: \"))\n",
    "\n",
    "area = (base * altura) / 2\n",
    "\n",
    "print(\"Área do triângulo:\", area)"
   ]
  },
  {
   "cell_type": "code",
   "execution_count": 25,
   "id": "7968f099",
   "metadata": {},
   "outputs": [
    {
     "name": "stdout",
     "output_type": "stream",
     "text": [
      "Digite o valor do raio do círculo: 3\n",
      "Diâmetro: 6.0 Circunferência: 18.84 Area: 28.26\n"
     ]
    }
   ],
   "source": [
    "#Escreva um programa que receba como entrada o raio de um círculo e imprima o diâmetro,\n",
    "#a circunferência e a área. Para isso, utilize as fórmulas: diâmetro = 2r; circunferência = 2πr, área = πr².\n",
    "\n",
    "raio = float(input(\"Digite o valor do raio do círculo: \"))\n",
    "\n",
    "diametro = raio * 2\n",
    "circunferencia = (2 * 3.14) * raio\n",
    "area = 3.14 * (raio*raio)\n",
    "\n",
    "print(\"Diâmetro:\", diametro, \"Circunferência:\", circunferencia, \"Area:\", area)"
   ]
  },
  {
   "cell_type": "code",
   "execution_count": 42,
   "id": "e6be815d",
   "metadata": {},
   "outputs": [
    {
     "name": "stdout",
     "output_type": "stream",
     "text": [
      "Digite um valor positivo: 2\n",
      "Número ao quadrado: 4 Número ao cubo: 8 raiz quadrada: 1.4142135623730951\n"
     ]
    }
   ],
   "source": [
    "#Faça um programa que receba um número positivo e maior que zero, calcule e mostre: o número digitado ao quadrado;\n",
    "#o número digitado ao cubo; a raiz quadrada do número digitado.\n",
    "\n",
    "import math\n",
    "\n",
    "valor_int = int(input(\"Digite um valor positivo: \"))\n",
    "\n",
    "if(valor_int > 0) : \n",
    "    quadrado = valor_int ** 2\n",
    "    cubo = valor_int ** 3\n",
    "    raiz_quadrada = math.sqrt(valor_int)\n",
    "    print(\"Número ao quadrado:\", quadrado, \"Número ao cubo:\", cubo, \"raiz quadrada:\", raiz_quadrada)\n",
    "\n",
    "else : print(\"Valor inválido!\") "
   ]
  },
  {
   "cell_type": "code",
   "execution_count": 44,
   "id": "ddbe86de",
   "metadata": {},
   "outputs": [
    {
     "name": "stdout",
     "output_type": "stream",
     "text": [
      "Digite um valor: 0\n",
      "Digite um valor: -2\n",
      "Valor inválido!\n"
     ]
    }
   ],
   "source": [
    "#Faça um programa que receba dois números maiores que zero, calcule e mostre um elevado ao outro.\n",
    "\n",
    "valor_1 = float(input(\"Digite um valor: \"))\n",
    "valor_2 = float(input(\"Digite um valor: \"))\n",
    "\n",
    "if(valor_1 and valor_2 > 0) : \n",
    "    elevado = valor_1 ** valor_2\n",
    "    print(\"Elevado:\", elevado)\n",
    "    \n",
    "else : print(\"Valores inválidos!\") "
   ]
  },
  {
   "cell_type": "code",
   "execution_count": 46,
   "id": "519ea6dd",
   "metadata": {},
   "outputs": [
    {
     "name": "stdout",
     "output_type": "stream",
     "text": [
      "Digite o valor dos pés: 50000\n",
      "Polegadas: 600000.0 Jardas: 16666.666666666668 Milhas: 9.46969696969697\n"
     ]
    }
   ],
   "source": [
    "#Sabe-se que: pé = 12 polegadas; 1 jarda = 3 pés e 1 milha = 1,760 jarda.\n",
    "#Faça um programa que receba uma medida em pés, faça as conversões a seguir e mostre os resultados.\n",
    "#polegadas, jardas, milhas\n",
    "\n",
    "pes = float(input(\"Digite o valor dos pés: \"))\n",
    "\n",
    "polegadas = pes*12\n",
    "jardas = pes/3\n",
    "milhas = jardas/1760\n",
    "\n",
    "print(\"Polegadas:\", polegadas, \"Jardas:\", jardas, \"Milhas:\", milhas)"
   ]
  },
  {
   "cell_type": "code",
   "execution_count": 59,
   "id": "991bda9b",
   "metadata": {},
   "outputs": [
    {
     "name": "stdout",
     "output_type": "stream",
     "text": [
      "Digite um valor de 5 digitos: 12345\n",
      "1 2 3 4 5\n"
     ]
    }
   ],
   "source": [
    "#Escreva um programa que receba como entrada um número de 5 dígitos,\n",
    "#separe o número em dígitos individuais e os imprima separados por 3 espaços cada um. Por exemplo,\n",
    "#se o usuário digitar 42339, o programa deverá imprimir: 4 2 3 3.\n",
    "#Dica: utilize as operações de divisão e módulo para extrair cada dígito do número.\n",
    "\n",
    "num = int(input(\"Digite um valor de 5 digitos: \"))\n",
    "u = num // 1 % 10\n",
    "d = num // 10 % 10\n",
    "c = num // 100 % 10\n",
    "m = num // 1000 % 10\n",
    "dm = num // 10000 % 10\n",
    "\n",
    "print(\"{}\".format(dm), \"{}\".format(m), \"{}\".format(c), \"{}\".format(d), \"{}\".format(u))"
   ]
  }
 ],
 "metadata": {
  "kernelspec": {
   "display_name": "Python 3 (ipykernel)",
   "language": "python",
   "name": "python3"
  },
  "language_info": {
   "codemirror_mode": {
    "name": "ipython",
    "version": 3
   },
   "file_extension": ".py",
   "mimetype": "text/x-python",
   "name": "python",
   "nbconvert_exporter": "python",
   "pygments_lexer": "ipython3",
   "version": "3.9.13"
  }
 },
 "nbformat": 4,
 "nbformat_minor": 5
}
